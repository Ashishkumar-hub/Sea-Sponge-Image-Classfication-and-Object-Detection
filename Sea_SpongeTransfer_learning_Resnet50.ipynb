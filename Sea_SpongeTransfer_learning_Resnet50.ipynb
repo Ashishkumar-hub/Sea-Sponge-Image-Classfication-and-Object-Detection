{
  "cells": [
    {
      "cell_type": "markdown",
      "source": [
        "# Sea Sponge Challenge"
      ],
      "metadata": {
        "id": "H2UAy6HnQtUi"
      }
    },
    {
      "cell_type": "code",
      "execution_count": 50,
      "metadata": {
        "colab": {
          "base_uri": "https://localhost:8080/"
        },
        "id": "29Im25ut9uxk",
        "outputId": "30a1957b-aa33-4bea-fc3f-67235dc3be62"
      },
      "outputs": [
        {
          "output_type": "stream",
          "name": "stdout",
          "text": [
            "Drive already mounted at /content/drive; to attempt to forcibly remount, call drive.mount(\"/content/drive\", force_remount=True).\n"
          ]
        }
      ],
      "source": [
        "from google.colab import drive\n",
        "drive.mount('/content/drive')"
      ]
    },
    {
      "cell_type": "code",
      "execution_count": 51,
      "metadata": {
        "id": "jQfvqQ4R2_9Y"
      },
      "outputs": [],
      "source": [
        "# import the libraries as shown below\n",
        "from tensorflow.keras.layers import Input, Lambda, Dense, Flatten\n",
        "from tensorflow.keras.models import Model\n",
        "from tensorflow.keras.applications.resnet50 import ResNet50\n",
        "#from keras.applications.vgg16 import VGG16\n",
        "from tensorflow.keras.applications.resnet50 import preprocess_input\n",
        "from tensorflow.keras.preprocessing import image\n",
        "from tensorflow.keras.preprocessing.image import ImageDataGenerator,load_img\n",
        "from tensorflow.keras.models import Sequential\n",
        "import numpy as np\n",
        "from glob import glob\n",
        "import matplotlib.pyplot as plt"
      ]
    },
    {
      "cell_type": "code",
      "source": [
        "import tensorflow as tf \n",
        "print(tf.__version__)"
      ],
      "metadata": {
        "colab": {
          "base_uri": "https://localhost:8080/"
        },
        "id": "2pSmhaiZJow-",
        "outputId": "d098b8a6-abd6-4667-cb5f-fa0a2aeb0800"
      },
      "execution_count": 52,
      "outputs": [
        {
          "output_type": "stream",
          "name": "stdout",
          "text": [
            "2.8.0\n"
          ]
        }
      ]
    },
    {
      "cell_type": "code",
      "execution_count": 53,
      "metadata": {
        "id": "9KcAGiHp2_9b"
      },
      "outputs": [],
      "source": [
        "# re-size all the images to this\n",
        "IMAGE_SIZE = [224, 224]\n",
        "train_path = '/content/drive/MyDrive/Dataset Sea Sponge/Train'\n",
        "valid_path = '/content/drive/MyDrive/Dataset Sea Sponge/Test'"
      ]
    },
    {
      "cell_type": "code",
      "execution_count": 54,
      "metadata": {
        "id": "7gXf3K0R2_9c"
      },
      "outputs": [],
      "source": [
        "# Import the Resnet library as shown below and add preprocessing layer to the front of Resnet\n",
        "# Here we will be using imagenet weights\n",
        "resnet = ResNet50(input_shape=IMAGE_SIZE + [3], weights='imagenet', include_top=False)"
      ]
    },
    {
      "cell_type": "code",
      "execution_count": 55,
      "metadata": {
        "id": "qAFc7FHZ2_9e"
      },
      "outputs": [],
      "source": [
        "# don't train existing weights\n",
        "for layer in resnet.layers:\n",
        "    layer.trainable = False"
      ]
    },
    {
      "cell_type": "code",
      "execution_count": 56,
      "metadata": {
        "id": "MLg1xXC32_9f"
      },
      "outputs": [],
      "source": [
        "# useful for getting number of output classes\n",
        "folders = glob('/content/drive/MyDrive/Dataset Sea Sponge/Train/*')"
      ]
    },
    {
      "cell_type": "code",
      "execution_count": 57,
      "metadata": {
        "id": "ltmfNE1t2_9h"
      },
      "outputs": [],
      "source": [
        "# our layers - you can add more if you want\n",
        "x = Flatten()(resnet.output)"
      ]
    },
    {
      "cell_type": "code",
      "execution_count": 58,
      "metadata": {
        "id": "rRCvSeqw2_9j"
      },
      "outputs": [],
      "source": [
        "prediction = Dense(len(folders), activation='softmax')(x)\n",
        "# create a model object\n",
        "model = Model(inputs=resnet.input, outputs=prediction)"
      ]
    },
    {
      "cell_type": "code",
      "execution_count": 59,
      "metadata": {
        "colab": {
          "base_uri": "https://localhost:8080/"
        },
        "id": "9FWandav2_9l",
        "outputId": "c7bf27d8-928a-42ab-a885-bbe7845157ac"
      },
      "outputs": [
        {
          "output_type": "stream",
          "name": "stdout",
          "text": [
            "Model: \"model_2\"\n",
            "__________________________________________________________________________________________________\n",
            " Layer (type)                   Output Shape         Param #     Connected to                     \n",
            "==================================================================================================\n",
            " input_4 (InputLayer)           [(None, 224, 224, 3  0           []                               \n",
            "                                )]                                                                \n",
            "                                                                                                  \n",
            " conv1_pad (ZeroPadding2D)      (None, 230, 230, 3)  0           ['input_4[0][0]']                \n",
            "                                                                                                  \n",
            " conv1_conv (Conv2D)            (None, 112, 112, 64  9472        ['conv1_pad[0][0]']              \n",
            "                                )                                                                 \n",
            "                                                                                                  \n",
            " conv1_bn (BatchNormalization)  (None, 112, 112, 64  256         ['conv1_conv[0][0]']             \n",
            "                                )                                                                 \n",
            "                                                                                                  \n",
            " conv1_relu (Activation)        (None, 112, 112, 64  0           ['conv1_bn[0][0]']               \n",
            "                                )                                                                 \n",
            "                                                                                                  \n",
            " pool1_pad (ZeroPadding2D)      (None, 114, 114, 64  0           ['conv1_relu[0][0]']             \n",
            "                                )                                                                 \n",
            "                                                                                                  \n",
            " pool1_pool (MaxPooling2D)      (None, 56, 56, 64)   0           ['pool1_pad[0][0]']              \n",
            "                                                                                                  \n",
            " conv2_block1_1_conv (Conv2D)   (None, 56, 56, 64)   4160        ['pool1_pool[0][0]']             \n",
            "                                                                                                  \n",
            " conv2_block1_1_bn (BatchNormal  (None, 56, 56, 64)  256         ['conv2_block1_1_conv[0][0]']    \n",
            " ization)                                                                                         \n",
            "                                                                                                  \n",
            " conv2_block1_1_relu (Activatio  (None, 56, 56, 64)  0           ['conv2_block1_1_bn[0][0]']      \n",
            " n)                                                                                               \n",
            "                                                                                                  \n",
            " conv2_block1_2_conv (Conv2D)   (None, 56, 56, 64)   36928       ['conv2_block1_1_relu[0][0]']    \n",
            "                                                                                                  \n",
            " conv2_block1_2_bn (BatchNormal  (None, 56, 56, 64)  256         ['conv2_block1_2_conv[0][0]']    \n",
            " ization)                                                                                         \n",
            "                                                                                                  \n",
            " conv2_block1_2_relu (Activatio  (None, 56, 56, 64)  0           ['conv2_block1_2_bn[0][0]']      \n",
            " n)                                                                                               \n",
            "                                                                                                  \n",
            " conv2_block1_0_conv (Conv2D)   (None, 56, 56, 256)  16640       ['pool1_pool[0][0]']             \n",
            "                                                                                                  \n",
            " conv2_block1_3_conv (Conv2D)   (None, 56, 56, 256)  16640       ['conv2_block1_2_relu[0][0]']    \n",
            "                                                                                                  \n",
            " conv2_block1_0_bn (BatchNormal  (None, 56, 56, 256)  1024       ['conv2_block1_0_conv[0][0]']    \n",
            " ization)                                                                                         \n",
            "                                                                                                  \n",
            " conv2_block1_3_bn (BatchNormal  (None, 56, 56, 256)  1024       ['conv2_block1_3_conv[0][0]']    \n",
            " ization)                                                                                         \n",
            "                                                                                                  \n",
            " conv2_block1_add (Add)         (None, 56, 56, 256)  0           ['conv2_block1_0_bn[0][0]',      \n",
            "                                                                  'conv2_block1_3_bn[0][0]']      \n",
            "                                                                                                  \n",
            " conv2_block1_out (Activation)  (None, 56, 56, 256)  0           ['conv2_block1_add[0][0]']       \n",
            "                                                                                                  \n",
            " conv2_block2_1_conv (Conv2D)   (None, 56, 56, 64)   16448       ['conv2_block1_out[0][0]']       \n",
            "                                                                                                  \n",
            " conv2_block2_1_bn (BatchNormal  (None, 56, 56, 64)  256         ['conv2_block2_1_conv[0][0]']    \n",
            " ization)                                                                                         \n",
            "                                                                                                  \n",
            " conv2_block2_1_relu (Activatio  (None, 56, 56, 64)  0           ['conv2_block2_1_bn[0][0]']      \n",
            " n)                                                                                               \n",
            "                                                                                                  \n",
            " conv2_block2_2_conv (Conv2D)   (None, 56, 56, 64)   36928       ['conv2_block2_1_relu[0][0]']    \n",
            "                                                                                                  \n",
            " conv2_block2_2_bn (BatchNormal  (None, 56, 56, 64)  256         ['conv2_block2_2_conv[0][0]']    \n",
            " ization)                                                                                         \n",
            "                                                                                                  \n",
            " conv2_block2_2_relu (Activatio  (None, 56, 56, 64)  0           ['conv2_block2_2_bn[0][0]']      \n",
            " n)                                                                                               \n",
            "                                                                                                  \n",
            " conv2_block2_3_conv (Conv2D)   (None, 56, 56, 256)  16640       ['conv2_block2_2_relu[0][0]']    \n",
            "                                                                                                  \n",
            " conv2_block2_3_bn (BatchNormal  (None, 56, 56, 256)  1024       ['conv2_block2_3_conv[0][0]']    \n",
            " ization)                                                                                         \n",
            "                                                                                                  \n",
            " conv2_block2_add (Add)         (None, 56, 56, 256)  0           ['conv2_block1_out[0][0]',       \n",
            "                                                                  'conv2_block2_3_bn[0][0]']      \n",
            "                                                                                                  \n",
            " conv2_block2_out (Activation)  (None, 56, 56, 256)  0           ['conv2_block2_add[0][0]']       \n",
            "                                                                                                  \n",
            " conv2_block3_1_conv (Conv2D)   (None, 56, 56, 64)   16448       ['conv2_block2_out[0][0]']       \n",
            "                                                                                                  \n",
            " conv2_block3_1_bn (BatchNormal  (None, 56, 56, 64)  256         ['conv2_block3_1_conv[0][0]']    \n",
            " ization)                                                                                         \n",
            "                                                                                                  \n",
            " conv2_block3_1_relu (Activatio  (None, 56, 56, 64)  0           ['conv2_block3_1_bn[0][0]']      \n",
            " n)                                                                                               \n",
            "                                                                                                  \n",
            " conv2_block3_2_conv (Conv2D)   (None, 56, 56, 64)   36928       ['conv2_block3_1_relu[0][0]']    \n",
            "                                                                                                  \n",
            " conv2_block3_2_bn (BatchNormal  (None, 56, 56, 64)  256         ['conv2_block3_2_conv[0][0]']    \n",
            " ization)                                                                                         \n",
            "                                                                                                  \n",
            " conv2_block3_2_relu (Activatio  (None, 56, 56, 64)  0           ['conv2_block3_2_bn[0][0]']      \n",
            " n)                                                                                               \n",
            "                                                                                                  \n",
            " conv2_block3_3_conv (Conv2D)   (None, 56, 56, 256)  16640       ['conv2_block3_2_relu[0][0]']    \n",
            "                                                                                                  \n",
            " conv2_block3_3_bn (BatchNormal  (None, 56, 56, 256)  1024       ['conv2_block3_3_conv[0][0]']    \n",
            " ization)                                                                                         \n",
            "                                                                                                  \n",
            " conv2_block3_add (Add)         (None, 56, 56, 256)  0           ['conv2_block2_out[0][0]',       \n",
            "                                                                  'conv2_block3_3_bn[0][0]']      \n",
            "                                                                                                  \n",
            " conv2_block3_out (Activation)  (None, 56, 56, 256)  0           ['conv2_block3_add[0][0]']       \n",
            "                                                                                                  \n",
            " conv3_block1_1_conv (Conv2D)   (None, 28, 28, 128)  32896       ['conv2_block3_out[0][0]']       \n",
            "                                                                                                  \n",
            " conv3_block1_1_bn (BatchNormal  (None, 28, 28, 128)  512        ['conv3_block1_1_conv[0][0]']    \n",
            " ization)                                                                                         \n",
            "                                                                                                  \n",
            " conv3_block1_1_relu (Activatio  (None, 28, 28, 128)  0          ['conv3_block1_1_bn[0][0]']      \n",
            " n)                                                                                               \n",
            "                                                                                                  \n",
            " conv3_block1_2_conv (Conv2D)   (None, 28, 28, 128)  147584      ['conv3_block1_1_relu[0][0]']    \n",
            "                                                                                                  \n",
            " conv3_block1_2_bn (BatchNormal  (None, 28, 28, 128)  512        ['conv3_block1_2_conv[0][0]']    \n",
            " ization)                                                                                         \n",
            "                                                                                                  \n",
            " conv3_block1_2_relu (Activatio  (None, 28, 28, 128)  0          ['conv3_block1_2_bn[0][0]']      \n",
            " n)                                                                                               \n",
            "                                                                                                  \n",
            " conv3_block1_0_conv (Conv2D)   (None, 28, 28, 512)  131584      ['conv2_block3_out[0][0]']       \n",
            "                                                                                                  \n",
            " conv3_block1_3_conv (Conv2D)   (None, 28, 28, 512)  66048       ['conv3_block1_2_relu[0][0]']    \n",
            "                                                                                                  \n",
            " conv3_block1_0_bn (BatchNormal  (None, 28, 28, 512)  2048       ['conv3_block1_0_conv[0][0]']    \n",
            " ization)                                                                                         \n",
            "                                                                                                  \n",
            " conv3_block1_3_bn (BatchNormal  (None, 28, 28, 512)  2048       ['conv3_block1_3_conv[0][0]']    \n",
            " ization)                                                                                         \n",
            "                                                                                                  \n",
            " conv3_block1_add (Add)         (None, 28, 28, 512)  0           ['conv3_block1_0_bn[0][0]',      \n",
            "                                                                  'conv3_block1_3_bn[0][0]']      \n",
            "                                                                                                  \n",
            " conv3_block1_out (Activation)  (None, 28, 28, 512)  0           ['conv3_block1_add[0][0]']       \n",
            "                                                                                                  \n",
            " conv3_block2_1_conv (Conv2D)   (None, 28, 28, 128)  65664       ['conv3_block1_out[0][0]']       \n",
            "                                                                                                  \n",
            " conv3_block2_1_bn (BatchNormal  (None, 28, 28, 128)  512        ['conv3_block2_1_conv[0][0]']    \n",
            " ization)                                                                                         \n",
            "                                                                                                  \n",
            " conv3_block2_1_relu (Activatio  (None, 28, 28, 128)  0          ['conv3_block2_1_bn[0][0]']      \n",
            " n)                                                                                               \n",
            "                                                                                                  \n",
            " conv3_block2_2_conv (Conv2D)   (None, 28, 28, 128)  147584      ['conv3_block2_1_relu[0][0]']    \n",
            "                                                                                                  \n",
            " conv3_block2_2_bn (BatchNormal  (None, 28, 28, 128)  512        ['conv3_block2_2_conv[0][0]']    \n",
            " ization)                                                                                         \n",
            "                                                                                                  \n",
            " conv3_block2_2_relu (Activatio  (None, 28, 28, 128)  0          ['conv3_block2_2_bn[0][0]']      \n",
            " n)                                                                                               \n",
            "                                                                                                  \n",
            " conv3_block2_3_conv (Conv2D)   (None, 28, 28, 512)  66048       ['conv3_block2_2_relu[0][0]']    \n",
            "                                                                                                  \n",
            " conv3_block2_3_bn (BatchNormal  (None, 28, 28, 512)  2048       ['conv3_block2_3_conv[0][0]']    \n",
            " ization)                                                                                         \n",
            "                                                                                                  \n",
            " conv3_block2_add (Add)         (None, 28, 28, 512)  0           ['conv3_block1_out[0][0]',       \n",
            "                                                                  'conv3_block2_3_bn[0][0]']      \n",
            "                                                                                                  \n",
            " conv3_block2_out (Activation)  (None, 28, 28, 512)  0           ['conv3_block2_add[0][0]']       \n",
            "                                                                                                  \n",
            " conv3_block3_1_conv (Conv2D)   (None, 28, 28, 128)  65664       ['conv3_block2_out[0][0]']       \n",
            "                                                                                                  \n",
            " conv3_block3_1_bn (BatchNormal  (None, 28, 28, 128)  512        ['conv3_block3_1_conv[0][0]']    \n",
            " ization)                                                                                         \n",
            "                                                                                                  \n",
            " conv3_block3_1_relu (Activatio  (None, 28, 28, 128)  0          ['conv3_block3_1_bn[0][0]']      \n",
            " n)                                                                                               \n",
            "                                                                                                  \n",
            " conv3_block3_2_conv (Conv2D)   (None, 28, 28, 128)  147584      ['conv3_block3_1_relu[0][0]']    \n",
            "                                                                                                  \n",
            " conv3_block3_2_bn (BatchNormal  (None, 28, 28, 128)  512        ['conv3_block3_2_conv[0][0]']    \n",
            " ization)                                                                                         \n",
            "                                                                                                  \n",
            " conv3_block3_2_relu (Activatio  (None, 28, 28, 128)  0          ['conv3_block3_2_bn[0][0]']      \n",
            " n)                                                                                               \n",
            "                                                                                                  \n",
            " conv3_block3_3_conv (Conv2D)   (None, 28, 28, 512)  66048       ['conv3_block3_2_relu[0][0]']    \n",
            "                                                                                                  \n",
            " conv3_block3_3_bn (BatchNormal  (None, 28, 28, 512)  2048       ['conv3_block3_3_conv[0][0]']    \n",
            " ization)                                                                                         \n",
            "                                                                                                  \n",
            " conv3_block3_add (Add)         (None, 28, 28, 512)  0           ['conv3_block2_out[0][0]',       \n",
            "                                                                  'conv3_block3_3_bn[0][0]']      \n",
            "                                                                                                  \n",
            " conv3_block3_out (Activation)  (None, 28, 28, 512)  0           ['conv3_block3_add[0][0]']       \n",
            "                                                                                                  \n",
            " conv3_block4_1_conv (Conv2D)   (None, 28, 28, 128)  65664       ['conv3_block3_out[0][0]']       \n",
            "                                                                                                  \n",
            " conv3_block4_1_bn (BatchNormal  (None, 28, 28, 128)  512        ['conv3_block4_1_conv[0][0]']    \n",
            " ization)                                                                                         \n",
            "                                                                                                  \n",
            " conv3_block4_1_relu (Activatio  (None, 28, 28, 128)  0          ['conv3_block4_1_bn[0][0]']      \n",
            " n)                                                                                               \n",
            "                                                                                                  \n",
            " conv3_block4_2_conv (Conv2D)   (None, 28, 28, 128)  147584      ['conv3_block4_1_relu[0][0]']    \n",
            "                                                                                                  \n",
            " conv3_block4_2_bn (BatchNormal  (None, 28, 28, 128)  512        ['conv3_block4_2_conv[0][0]']    \n",
            " ization)                                                                                         \n",
            "                                                                                                  \n",
            " conv3_block4_2_relu (Activatio  (None, 28, 28, 128)  0          ['conv3_block4_2_bn[0][0]']      \n",
            " n)                                                                                               \n",
            "                                                                                                  \n",
            " conv3_block4_3_conv (Conv2D)   (None, 28, 28, 512)  66048       ['conv3_block4_2_relu[0][0]']    \n",
            "                                                                                                  \n",
            " conv3_block4_3_bn (BatchNormal  (None, 28, 28, 512)  2048       ['conv3_block4_3_conv[0][0]']    \n",
            " ization)                                                                                         \n",
            "                                                                                                  \n",
            " conv3_block4_add (Add)         (None, 28, 28, 512)  0           ['conv3_block3_out[0][0]',       \n",
            "                                                                  'conv3_block4_3_bn[0][0]']      \n",
            "                                                                                                  \n",
            " conv3_block4_out (Activation)  (None, 28, 28, 512)  0           ['conv3_block4_add[0][0]']       \n",
            "                                                                                                  \n",
            " conv4_block1_1_conv (Conv2D)   (None, 14, 14, 256)  131328      ['conv3_block4_out[0][0]']       \n",
            "                                                                                                  \n",
            " conv4_block1_1_bn (BatchNormal  (None, 14, 14, 256)  1024       ['conv4_block1_1_conv[0][0]']    \n",
            " ization)                                                                                         \n",
            "                                                                                                  \n",
            " conv4_block1_1_relu (Activatio  (None, 14, 14, 256)  0          ['conv4_block1_1_bn[0][0]']      \n",
            " n)                                                                                               \n",
            "                                                                                                  \n",
            " conv4_block1_2_conv (Conv2D)   (None, 14, 14, 256)  590080      ['conv4_block1_1_relu[0][0]']    \n",
            "                                                                                                  \n",
            " conv4_block1_2_bn (BatchNormal  (None, 14, 14, 256)  1024       ['conv4_block1_2_conv[0][0]']    \n",
            " ization)                                                                                         \n",
            "                                                                                                  \n",
            " conv4_block1_2_relu (Activatio  (None, 14, 14, 256)  0          ['conv4_block1_2_bn[0][0]']      \n",
            " n)                                                                                               \n",
            "                                                                                                  \n",
            " conv4_block1_0_conv (Conv2D)   (None, 14, 14, 1024  525312      ['conv3_block4_out[0][0]']       \n",
            "                                )                                                                 \n",
            "                                                                                                  \n",
            " conv4_block1_3_conv (Conv2D)   (None, 14, 14, 1024  263168      ['conv4_block1_2_relu[0][0]']    \n",
            "                                )                                                                 \n",
            "                                                                                                  \n",
            " conv4_block1_0_bn (BatchNormal  (None, 14, 14, 1024  4096       ['conv4_block1_0_conv[0][0]']    \n",
            " ization)                       )                                                                 \n",
            "                                                                                                  \n",
            " conv4_block1_3_bn (BatchNormal  (None, 14, 14, 1024  4096       ['conv4_block1_3_conv[0][0]']    \n",
            " ization)                       )                                                                 \n",
            "                                                                                                  \n",
            " conv4_block1_add (Add)         (None, 14, 14, 1024  0           ['conv4_block1_0_bn[0][0]',      \n",
            "                                )                                 'conv4_block1_3_bn[0][0]']      \n",
            "                                                                                                  \n",
            " conv4_block1_out (Activation)  (None, 14, 14, 1024  0           ['conv4_block1_add[0][0]']       \n",
            "                                )                                                                 \n",
            "                                                                                                  \n",
            " conv4_block2_1_conv (Conv2D)   (None, 14, 14, 256)  262400      ['conv4_block1_out[0][0]']       \n",
            "                                                                                                  \n",
            " conv4_block2_1_bn (BatchNormal  (None, 14, 14, 256)  1024       ['conv4_block2_1_conv[0][0]']    \n",
            " ization)                                                                                         \n",
            "                                                                                                  \n",
            " conv4_block2_1_relu (Activatio  (None, 14, 14, 256)  0          ['conv4_block2_1_bn[0][0]']      \n",
            " n)                                                                                               \n",
            "                                                                                                  \n",
            " conv4_block2_2_conv (Conv2D)   (None, 14, 14, 256)  590080      ['conv4_block2_1_relu[0][0]']    \n",
            "                                                                                                  \n",
            " conv4_block2_2_bn (BatchNormal  (None, 14, 14, 256)  1024       ['conv4_block2_2_conv[0][0]']    \n",
            " ization)                                                                                         \n",
            "                                                                                                  \n",
            " conv4_block2_2_relu (Activatio  (None, 14, 14, 256)  0          ['conv4_block2_2_bn[0][0]']      \n",
            " n)                                                                                               \n",
            "                                                                                                  \n",
            " conv4_block2_3_conv (Conv2D)   (None, 14, 14, 1024  263168      ['conv4_block2_2_relu[0][0]']    \n",
            "                                )                                                                 \n",
            "                                                                                                  \n",
            " conv4_block2_3_bn (BatchNormal  (None, 14, 14, 1024  4096       ['conv4_block2_3_conv[0][0]']    \n",
            " ization)                       )                                                                 \n",
            "                                                                                                  \n",
            " conv4_block2_add (Add)         (None, 14, 14, 1024  0           ['conv4_block1_out[0][0]',       \n",
            "                                )                                 'conv4_block2_3_bn[0][0]']      \n",
            "                                                                                                  \n",
            " conv4_block2_out (Activation)  (None, 14, 14, 1024  0           ['conv4_block2_add[0][0]']       \n",
            "                                )                                                                 \n",
            "                                                                                                  \n",
            " conv4_block3_1_conv (Conv2D)   (None, 14, 14, 256)  262400      ['conv4_block2_out[0][0]']       \n",
            "                                                                                                  \n",
            " conv4_block3_1_bn (BatchNormal  (None, 14, 14, 256)  1024       ['conv4_block3_1_conv[0][0]']    \n",
            " ization)                                                                                         \n",
            "                                                                                                  \n",
            " conv4_block3_1_relu (Activatio  (None, 14, 14, 256)  0          ['conv4_block3_1_bn[0][0]']      \n",
            " n)                                                                                               \n",
            "                                                                                                  \n",
            " conv4_block3_2_conv (Conv2D)   (None, 14, 14, 256)  590080      ['conv4_block3_1_relu[0][0]']    \n",
            "                                                                                                  \n",
            " conv4_block3_2_bn (BatchNormal  (None, 14, 14, 256)  1024       ['conv4_block3_2_conv[0][0]']    \n",
            " ization)                                                                                         \n",
            "                                                                                                  \n",
            " conv4_block3_2_relu (Activatio  (None, 14, 14, 256)  0          ['conv4_block3_2_bn[0][0]']      \n",
            " n)                                                                                               \n",
            "                                                                                                  \n",
            " conv4_block3_3_conv (Conv2D)   (None, 14, 14, 1024  263168      ['conv4_block3_2_relu[0][0]']    \n",
            "                                )                                                                 \n",
            "                                                                                                  \n",
            " conv4_block3_3_bn (BatchNormal  (None, 14, 14, 1024  4096       ['conv4_block3_3_conv[0][0]']    \n",
            " ization)                       )                                                                 \n",
            "                                                                                                  \n",
            " conv4_block3_add (Add)         (None, 14, 14, 1024  0           ['conv4_block2_out[0][0]',       \n",
            "                                )                                 'conv4_block3_3_bn[0][0]']      \n",
            "                                                                                                  \n",
            " conv4_block3_out (Activation)  (None, 14, 14, 1024  0           ['conv4_block3_add[0][0]']       \n",
            "                                )                                                                 \n",
            "                                                                                                  \n",
            " conv4_block4_1_conv (Conv2D)   (None, 14, 14, 256)  262400      ['conv4_block3_out[0][0]']       \n",
            "                                                                                                  \n",
            " conv4_block4_1_bn (BatchNormal  (None, 14, 14, 256)  1024       ['conv4_block4_1_conv[0][0]']    \n",
            " ization)                                                                                         \n",
            "                                                                                                  \n",
            " conv4_block4_1_relu (Activatio  (None, 14, 14, 256)  0          ['conv4_block4_1_bn[0][0]']      \n",
            " n)                                                                                               \n",
            "                                                                                                  \n",
            " conv4_block4_2_conv (Conv2D)   (None, 14, 14, 256)  590080      ['conv4_block4_1_relu[0][0]']    \n",
            "                                                                                                  \n",
            " conv4_block4_2_bn (BatchNormal  (None, 14, 14, 256)  1024       ['conv4_block4_2_conv[0][0]']    \n",
            " ization)                                                                                         \n",
            "                                                                                                  \n",
            " conv4_block4_2_relu (Activatio  (None, 14, 14, 256)  0          ['conv4_block4_2_bn[0][0]']      \n",
            " n)                                                                                               \n",
            "                                                                                                  \n",
            " conv4_block4_3_conv (Conv2D)   (None, 14, 14, 1024  263168      ['conv4_block4_2_relu[0][0]']    \n",
            "                                )                                                                 \n",
            "                                                                                                  \n",
            " conv4_block4_3_bn (BatchNormal  (None, 14, 14, 1024  4096       ['conv4_block4_3_conv[0][0]']    \n",
            " ization)                       )                                                                 \n",
            "                                                                                                  \n",
            " conv4_block4_add (Add)         (None, 14, 14, 1024  0           ['conv4_block3_out[0][0]',       \n",
            "                                )                                 'conv4_block4_3_bn[0][0]']      \n",
            "                                                                                                  \n",
            " conv4_block4_out (Activation)  (None, 14, 14, 1024  0           ['conv4_block4_add[0][0]']       \n",
            "                                )                                                                 \n",
            "                                                                                                  \n",
            " conv4_block5_1_conv (Conv2D)   (None, 14, 14, 256)  262400      ['conv4_block4_out[0][0]']       \n",
            "                                                                                                  \n",
            " conv4_block5_1_bn (BatchNormal  (None, 14, 14, 256)  1024       ['conv4_block5_1_conv[0][0]']    \n",
            " ization)                                                                                         \n",
            "                                                                                                  \n",
            " conv4_block5_1_relu (Activatio  (None, 14, 14, 256)  0          ['conv4_block5_1_bn[0][0]']      \n",
            " n)                                                                                               \n",
            "                                                                                                  \n",
            " conv4_block5_2_conv (Conv2D)   (None, 14, 14, 256)  590080      ['conv4_block5_1_relu[0][0]']    \n",
            "                                                                                                  \n",
            " conv4_block5_2_bn (BatchNormal  (None, 14, 14, 256)  1024       ['conv4_block5_2_conv[0][0]']    \n",
            " ization)                                                                                         \n",
            "                                                                                                  \n",
            " conv4_block5_2_relu (Activatio  (None, 14, 14, 256)  0          ['conv4_block5_2_bn[0][0]']      \n",
            " n)                                                                                               \n",
            "                                                                                                  \n",
            " conv4_block5_3_conv (Conv2D)   (None, 14, 14, 1024  263168      ['conv4_block5_2_relu[0][0]']    \n",
            "                                )                                                                 \n",
            "                                                                                                  \n",
            " conv4_block5_3_bn (BatchNormal  (None, 14, 14, 1024  4096       ['conv4_block5_3_conv[0][0]']    \n",
            " ization)                       )                                                                 \n",
            "                                                                                                  \n",
            " conv4_block5_add (Add)         (None, 14, 14, 1024  0           ['conv4_block4_out[0][0]',       \n",
            "                                )                                 'conv4_block5_3_bn[0][0]']      \n",
            "                                                                                                  \n",
            " conv4_block5_out (Activation)  (None, 14, 14, 1024  0           ['conv4_block5_add[0][0]']       \n",
            "                                )                                                                 \n",
            "                                                                                                  \n",
            " conv4_block6_1_conv (Conv2D)   (None, 14, 14, 256)  262400      ['conv4_block5_out[0][0]']       \n",
            "                                                                                                  \n",
            " conv4_block6_1_bn (BatchNormal  (None, 14, 14, 256)  1024       ['conv4_block6_1_conv[0][0]']    \n",
            " ization)                                                                                         \n",
            "                                                                                                  \n",
            " conv4_block6_1_relu (Activatio  (None, 14, 14, 256)  0          ['conv4_block6_1_bn[0][0]']      \n",
            " n)                                                                                               \n",
            "                                                                                                  \n",
            " conv4_block6_2_conv (Conv2D)   (None, 14, 14, 256)  590080      ['conv4_block6_1_relu[0][0]']    \n",
            "                                                                                                  \n",
            " conv4_block6_2_bn (BatchNormal  (None, 14, 14, 256)  1024       ['conv4_block6_2_conv[0][0]']    \n",
            " ization)                                                                                         \n",
            "                                                                                                  \n",
            " conv4_block6_2_relu (Activatio  (None, 14, 14, 256)  0          ['conv4_block6_2_bn[0][0]']      \n",
            " n)                                                                                               \n",
            "                                                                                                  \n",
            " conv4_block6_3_conv (Conv2D)   (None, 14, 14, 1024  263168      ['conv4_block6_2_relu[0][0]']    \n",
            "                                )                                                                 \n",
            "                                                                                                  \n",
            " conv4_block6_3_bn (BatchNormal  (None, 14, 14, 1024  4096       ['conv4_block6_3_conv[0][0]']    \n",
            " ization)                       )                                                                 \n",
            "                                                                                                  \n",
            " conv4_block6_add (Add)         (None, 14, 14, 1024  0           ['conv4_block5_out[0][0]',       \n",
            "                                )                                 'conv4_block6_3_bn[0][0]']      \n",
            "                                                                                                  \n",
            " conv4_block6_out (Activation)  (None, 14, 14, 1024  0           ['conv4_block6_add[0][0]']       \n",
            "                                )                                                                 \n",
            "                                                                                                  \n",
            " conv5_block1_1_conv (Conv2D)   (None, 7, 7, 512)    524800      ['conv4_block6_out[0][0]']       \n",
            "                                                                                                  \n",
            " conv5_block1_1_bn (BatchNormal  (None, 7, 7, 512)   2048        ['conv5_block1_1_conv[0][0]']    \n",
            " ization)                                                                                         \n",
            "                                                                                                  \n",
            " conv5_block1_1_relu (Activatio  (None, 7, 7, 512)   0           ['conv5_block1_1_bn[0][0]']      \n",
            " n)                                                                                               \n",
            "                                                                                                  \n",
            " conv5_block1_2_conv (Conv2D)   (None, 7, 7, 512)    2359808     ['conv5_block1_1_relu[0][0]']    \n",
            "                                                                                                  \n",
            " conv5_block1_2_bn (BatchNormal  (None, 7, 7, 512)   2048        ['conv5_block1_2_conv[0][0]']    \n",
            " ization)                                                                                         \n",
            "                                                                                                  \n",
            " conv5_block1_2_relu (Activatio  (None, 7, 7, 512)   0           ['conv5_block1_2_bn[0][0]']      \n",
            " n)                                                                                               \n",
            "                                                                                                  \n",
            " conv5_block1_0_conv (Conv2D)   (None, 7, 7, 2048)   2099200     ['conv4_block6_out[0][0]']       \n",
            "                                                                                                  \n",
            " conv5_block1_3_conv (Conv2D)   (None, 7, 7, 2048)   1050624     ['conv5_block1_2_relu[0][0]']    \n",
            "                                                                                                  \n",
            " conv5_block1_0_bn (BatchNormal  (None, 7, 7, 2048)  8192        ['conv5_block1_0_conv[0][0]']    \n",
            " ization)                                                                                         \n",
            "                                                                                                  \n",
            " conv5_block1_3_bn (BatchNormal  (None, 7, 7, 2048)  8192        ['conv5_block1_3_conv[0][0]']    \n",
            " ization)                                                                                         \n",
            "                                                                                                  \n",
            " conv5_block1_add (Add)         (None, 7, 7, 2048)   0           ['conv5_block1_0_bn[0][0]',      \n",
            "                                                                  'conv5_block1_3_bn[0][0]']      \n",
            "                                                                                                  \n",
            " conv5_block1_out (Activation)  (None, 7, 7, 2048)   0           ['conv5_block1_add[0][0]']       \n",
            "                                                                                                  \n",
            " conv5_block2_1_conv (Conv2D)   (None, 7, 7, 512)    1049088     ['conv5_block1_out[0][0]']       \n",
            "                                                                                                  \n",
            " conv5_block2_1_bn (BatchNormal  (None, 7, 7, 512)   2048        ['conv5_block2_1_conv[0][0]']    \n",
            " ization)                                                                                         \n",
            "                                                                                                  \n",
            " conv5_block2_1_relu (Activatio  (None, 7, 7, 512)   0           ['conv5_block2_1_bn[0][0]']      \n",
            " n)                                                                                               \n",
            "                                                                                                  \n",
            " conv5_block2_2_conv (Conv2D)   (None, 7, 7, 512)    2359808     ['conv5_block2_1_relu[0][0]']    \n",
            "                                                                                                  \n",
            " conv5_block2_2_bn (BatchNormal  (None, 7, 7, 512)   2048        ['conv5_block2_2_conv[0][0]']    \n",
            " ization)                                                                                         \n",
            "                                                                                                  \n",
            " conv5_block2_2_relu (Activatio  (None, 7, 7, 512)   0           ['conv5_block2_2_bn[0][0]']      \n",
            " n)                                                                                               \n",
            "                                                                                                  \n",
            " conv5_block2_3_conv (Conv2D)   (None, 7, 7, 2048)   1050624     ['conv5_block2_2_relu[0][0]']    \n",
            "                                                                                                  \n",
            " conv5_block2_3_bn (BatchNormal  (None, 7, 7, 2048)  8192        ['conv5_block2_3_conv[0][0]']    \n",
            " ization)                                                                                         \n",
            "                                                                                                  \n",
            " conv5_block2_add (Add)         (None, 7, 7, 2048)   0           ['conv5_block1_out[0][0]',       \n",
            "                                                                  'conv5_block2_3_bn[0][0]']      \n",
            "                                                                                                  \n",
            " conv5_block2_out (Activation)  (None, 7, 7, 2048)   0           ['conv5_block2_add[0][0]']       \n",
            "                                                                                                  \n",
            " conv5_block3_1_conv (Conv2D)   (None, 7, 7, 512)    1049088     ['conv5_block2_out[0][0]']       \n",
            "                                                                                                  \n",
            " conv5_block3_1_bn (BatchNormal  (None, 7, 7, 512)   2048        ['conv5_block3_1_conv[0][0]']    \n",
            " ization)                                                                                         \n",
            "                                                                                                  \n",
            " conv5_block3_1_relu (Activatio  (None, 7, 7, 512)   0           ['conv5_block3_1_bn[0][0]']      \n",
            " n)                                                                                               \n",
            "                                                                                                  \n",
            " conv5_block3_2_conv (Conv2D)   (None, 7, 7, 512)    2359808     ['conv5_block3_1_relu[0][0]']    \n",
            "                                                                                                  \n",
            " conv5_block3_2_bn (BatchNormal  (None, 7, 7, 512)   2048        ['conv5_block3_2_conv[0][0]']    \n",
            " ization)                                                                                         \n",
            "                                                                                                  \n",
            " conv5_block3_2_relu (Activatio  (None, 7, 7, 512)   0           ['conv5_block3_2_bn[0][0]']      \n",
            " n)                                                                                               \n",
            "                                                                                                  \n",
            " conv5_block3_3_conv (Conv2D)   (None, 7, 7, 2048)   1050624     ['conv5_block3_2_relu[0][0]']    \n",
            "                                                                                                  \n",
            " conv5_block3_3_bn (BatchNormal  (None, 7, 7, 2048)  8192        ['conv5_block3_3_conv[0][0]']    \n",
            " ization)                                                                                         \n",
            "                                                                                                  \n",
            " conv5_block3_add (Add)         (None, 7, 7, 2048)   0           ['conv5_block2_out[0][0]',       \n",
            "                                                                  'conv5_block3_3_bn[0][0]']      \n",
            "                                                                                                  \n",
            " conv5_block3_out (Activation)  (None, 7, 7, 2048)   0           ['conv5_block3_add[0][0]']       \n",
            "                                                                                                  \n",
            " flatten_3 (Flatten)            (None, 100352)       0           ['conv5_block3_out[0][0]']       \n",
            "                                                                                                  \n",
            " dense_2 (Dense)                (None, 6)            602118      ['flatten_3[0][0]']              \n",
            "                                                                                                  \n",
            "==================================================================================================\n",
            "Total params: 24,189,830\n",
            "Trainable params: 602,118\n",
            "Non-trainable params: 23,587,712\n",
            "__________________________________________________________________________________________________\n"
          ]
        }
      ],
      "source": [
        "# view the structure of the model\n",
        "model.summary()"
      ]
    },
    {
      "cell_type": "code",
      "execution_count": 60,
      "metadata": {
        "id": "attkcdQC2_9n"
      },
      "outputs": [],
      "source": [
        "# tell the model what cost and optimization method to use\n",
        "model.compile(\n",
        "  loss='categorical_crossentropy',\n",
        "  optimizer='adam',\n",
        "  metrics=['accuracy']\n",
        ")"
      ]
    },
    {
      "cell_type": "code",
      "execution_count": 61,
      "metadata": {
        "id": "EZ_bn6QU2_9p"
      },
      "outputs": [],
      "source": [
        "# Use the Image Data Generator to import the images from the dataset\n",
        "from tensorflow.keras.preprocessing.image import ImageDataGenerator\n",
        "\n",
        "train_datagen = ImageDataGenerator(rescale = 1./255,\n",
        "                                   shear_range = 0.2,\n",
        "                                   zoom_range = 0.2,\n",
        "                                   horizontal_flip = True) #vertical_flip=True\n",
        "\n",
        "test_datagen = ImageDataGenerator(rescale = 1./255)"
      ]
    },
    {
      "cell_type": "code",
      "execution_count": 62,
      "metadata": {
        "colab": {
          "base_uri": "https://localhost:8080/"
        },
        "id": "jTDZ3Rhc2_9q",
        "outputId": "8ed79872-49d0-4986-803b-e5daad4aaaa8"
      },
      "outputs": [
        {
          "output_type": "stream",
          "name": "stdout",
          "text": [
            "Found 60 images belonging to 6 classes.\n"
          ]
        }
      ],
      "source": [
        "# Make sure you provide the same target size as initialied for the image size\n",
        "training_set = train_datagen.flow_from_directory('/content/drive/MyDrive/Dataset Sea Sponge/Train',\n",
        "                                                 target_size = (224, 224),\n",
        "                                                 batch_size = 32,\n",
        "                                                 class_mode = 'categorical')"
      ]
    },
    {
      "cell_type": "code",
      "execution_count": 63,
      "metadata": {
        "colab": {
          "base_uri": "https://localhost:8080/"
        },
        "id": "5JVh0tDm2_9r",
        "outputId": "020c5384-37a9-4f16-cd07-95559ee54414"
      },
      "outputs": [
        {
          "output_type": "stream",
          "name": "stdout",
          "text": [
            "Found 58 images belonging to 6 classes.\n"
          ]
        }
      ],
      "source": [
        "test_set = test_datagen.flow_from_directory('/content/drive/MyDrive/Dataset Sea Sponge/Test',\n",
        "                                            target_size = (224, 224),\n",
        "                                            batch_size = 32,\n",
        "                                            class_mode = 'categorical')"
      ]
    },
    {
      "cell_type": "code",
      "execution_count": 64,
      "metadata": {
        "colab": {
          "base_uri": "https://localhost:8080/"
        },
        "id": "PwyttklA2_9s",
        "outputId": "c6e58fdf-6a3e-48a1-c944-b5da2cd28829"
      },
      "outputs": [
        {
          "output_type": "stream",
          "name": "stderr",
          "text": [
            "/usr/local/lib/python3.7/dist-packages/ipykernel_launcher.py:8: UserWarning: `Model.fit_generator` is deprecated and will be removed in a future version. Please use `Model.fit`, which supports generators.\n",
            "  \n"
          ]
        },
        {
          "output_type": "stream",
          "name": "stdout",
          "text": [
            "Epoch 1/50\n",
            "2/2 [==============================] - 8s 3s/step - loss: 4.0195 - accuracy: 0.2000 - val_loss: 9.6248 - val_accuracy: 0.2931\n",
            "Epoch 2/50\n",
            "2/2 [==============================] - 2s 2s/step - loss: 10.9199 - accuracy: 0.2000 - val_loss: 4.5062 - val_accuracy: 0.1724\n",
            "Epoch 3/50\n",
            "2/2 [==============================] - 2s 1s/step - loss: 8.2829 - accuracy: 0.1667 - val_loss: 10.1924 - val_accuracy: 0.1724\n",
            "Epoch 4/50\n",
            "2/2 [==============================] - 2s 2s/step - loss: 10.2028 - accuracy: 0.1500 - val_loss: 5.9141 - val_accuracy: 0.2069\n",
            "Epoch 5/50\n",
            "2/2 [==============================] - 2s 1s/step - loss: 5.8489 - accuracy: 0.2000 - val_loss: 4.4589 - val_accuracy: 0.2069\n",
            "Epoch 6/50\n",
            "2/2 [==============================] - 2s 1s/step - loss: 4.6248 - accuracy: 0.2500 - val_loss: 4.7775 - val_accuracy: 0.2414\n",
            "Epoch 7/50\n",
            "2/2 [==============================] - 2s 2s/step - loss: 4.1861 - accuracy: 0.2667 - val_loss: 5.0700 - val_accuracy: 0.2241\n",
            "Epoch 8/50\n",
            "2/2 [==============================] - 2s 1s/step - loss: 4.2088 - accuracy: 0.2500 - val_loss: 4.6068 - val_accuracy: 0.2069\n",
            "Epoch 9/50\n",
            "2/2 [==============================] - 2s 2s/step - loss: 3.8172 - accuracy: 0.1833 - val_loss: 3.5067 - val_accuracy: 0.2069\n",
            "Epoch 10/50\n",
            "2/2 [==============================] - 2s 1s/step - loss: 2.4205 - accuracy: 0.3500 - val_loss: 3.7859 - val_accuracy: 0.2069\n",
            "Epoch 11/50\n",
            "2/2 [==============================] - 2s 2s/step - loss: 3.0779 - accuracy: 0.3000 - val_loss: 3.0549 - val_accuracy: 0.2931\n",
            "Epoch 12/50\n",
            "2/2 [==============================] - 2s 2s/step - loss: 2.1276 - accuracy: 0.4500 - val_loss: 2.8081 - val_accuracy: 0.2241\n",
            "Epoch 13/50\n",
            "2/2 [==============================] - 2s 2s/step - loss: 2.0888 - accuracy: 0.3000 - val_loss: 3.2618 - val_accuracy: 0.2586\n",
            "Epoch 14/50\n",
            "2/2 [==============================] - 2s 1s/step - loss: 2.3715 - accuracy: 0.3500 - val_loss: 2.8803 - val_accuracy: 0.2241\n",
            "Epoch 15/50\n",
            "2/2 [==============================] - 2s 1s/step - loss: 1.7131 - accuracy: 0.3667 - val_loss: 2.3249 - val_accuracy: 0.2759\n",
            "Epoch 16/50\n",
            "2/2 [==============================] - 2s 1s/step - loss: 1.7440 - accuracy: 0.4833 - val_loss: 2.2300 - val_accuracy: 0.3448\n",
            "Epoch 17/50\n",
            "2/2 [==============================] - 2s 1s/step - loss: 1.6163 - accuracy: 0.4333 - val_loss: 2.0135 - val_accuracy: 0.2586\n",
            "Epoch 18/50\n",
            "2/2 [==============================] - 2s 1s/step - loss: 1.3075 - accuracy: 0.5000 - val_loss: 2.5430 - val_accuracy: 0.2586\n",
            "Epoch 19/50\n",
            "2/2 [==============================] - 2s 2s/step - loss: 1.4329 - accuracy: 0.5000 - val_loss: 2.0324 - val_accuracy: 0.3966\n",
            "Epoch 20/50\n",
            "2/2 [==============================] - 2s 1s/step - loss: 1.2915 - accuracy: 0.4500 - val_loss: 2.0251 - val_accuracy: 0.3103\n",
            "Epoch 21/50\n",
            "2/2 [==============================] - 2s 2s/step - loss: 1.2854 - accuracy: 0.5500 - val_loss: 2.0822 - val_accuracy: 0.2931\n",
            "Epoch 22/50\n",
            "2/2 [==============================] - 2s 2s/step - loss: 1.1373 - accuracy: 0.5500 - val_loss: 2.0568 - val_accuracy: 0.3103\n",
            "Epoch 23/50\n",
            "2/2 [==============================] - 2s 2s/step - loss: 1.0365 - accuracy: 0.5833 - val_loss: 1.7906 - val_accuracy: 0.3793\n",
            "Epoch 24/50\n",
            "2/2 [==============================] - 2s 2s/step - loss: 0.9928 - accuracy: 0.6333 - val_loss: 1.9152 - val_accuracy: 0.3103\n",
            "Epoch 25/50\n",
            "2/2 [==============================] - 2s 1s/step - loss: 1.0587 - accuracy: 0.6333 - val_loss: 1.9635 - val_accuracy: 0.3276\n",
            "Epoch 26/50\n",
            "2/2 [==============================] - 2s 2s/step - loss: 1.0645 - accuracy: 0.6333 - val_loss: 1.9024 - val_accuracy: 0.4310\n",
            "Epoch 27/50\n",
            "2/2 [==============================] - 2s 2s/step - loss: 0.9979 - accuracy: 0.6333 - val_loss: 1.7222 - val_accuracy: 0.3966\n",
            "Epoch 28/50\n",
            "2/2 [==============================] - 2s 1s/step - loss: 1.0173 - accuracy: 0.6833 - val_loss: 1.9326 - val_accuracy: 0.3448\n",
            "Epoch 29/50\n",
            "2/2 [==============================] - 2s 2s/step - loss: 0.9215 - accuracy: 0.7167 - val_loss: 1.8650 - val_accuracy: 0.3966\n",
            "Epoch 30/50\n",
            "2/2 [==============================] - 2s 2s/step - loss: 0.9264 - accuracy: 0.6833 - val_loss: 1.7023 - val_accuracy: 0.3793\n",
            "Epoch 31/50\n",
            "2/2 [==============================] - 2s 1s/step - loss: 0.8915 - accuracy: 0.7167 - val_loss: 1.9189 - val_accuracy: 0.3621\n",
            "Epoch 32/50\n",
            "2/2 [==============================] - 2s 1s/step - loss: 0.8568 - accuracy: 0.7000 - val_loss: 1.7680 - val_accuracy: 0.4138\n",
            "Epoch 33/50\n",
            "2/2 [==============================] - 2s 2s/step - loss: 0.9023 - accuracy: 0.6833 - val_loss: 1.7142 - val_accuracy: 0.3793\n",
            "Epoch 34/50\n",
            "2/2 [==============================] - 2s 1s/step - loss: 0.8020 - accuracy: 0.7500 - val_loss: 1.8193 - val_accuracy: 0.4138\n",
            "Epoch 35/50\n",
            "2/2 [==============================] - 2s 2s/step - loss: 0.8611 - accuracy: 0.7833 - val_loss: 1.8061 - val_accuracy: 0.3793\n",
            "Epoch 36/50\n",
            "2/2 [==============================] - 2s 2s/step - loss: 0.8143 - accuracy: 0.7333 - val_loss: 1.6857 - val_accuracy: 0.3448\n",
            "Epoch 37/50\n",
            "2/2 [==============================] - 2s 1s/step - loss: 0.8559 - accuracy: 0.7333 - val_loss: 1.7279 - val_accuracy: 0.4138\n",
            "Epoch 38/50\n",
            "2/2 [==============================] - 2s 2s/step - loss: 0.7796 - accuracy: 0.8333 - val_loss: 1.8857 - val_accuracy: 0.3448\n",
            "Epoch 39/50\n",
            "2/2 [==============================] - 2s 1s/step - loss: 0.8242 - accuracy: 0.6833 - val_loss: 1.6873 - val_accuracy: 0.4310\n",
            "Epoch 40/50\n",
            "2/2 [==============================] - 2s 2s/step - loss: 0.8247 - accuracy: 0.7500 - val_loss: 1.7675 - val_accuracy: 0.4138\n",
            "Epoch 41/50\n",
            "2/2 [==============================] - 2s 2s/step - loss: 0.8163 - accuracy: 0.7333 - val_loss: 1.7948 - val_accuracy: 0.3793\n",
            "Epoch 42/50\n",
            "2/2 [==============================] - 2s 2s/step - loss: 0.7636 - accuracy: 0.7667 - val_loss: 1.8185 - val_accuracy: 0.4483\n",
            "Epoch 43/50\n",
            "2/2 [==============================] - 2s 2s/step - loss: 0.7538 - accuracy: 0.7833 - val_loss: 1.6545 - val_accuracy: 0.4655\n",
            "Epoch 44/50\n",
            "2/2 [==============================] - 2s 1s/step - loss: 0.7320 - accuracy: 0.7500 - val_loss: 1.7688 - val_accuracy: 0.3966\n",
            "Epoch 45/50\n",
            "2/2 [==============================] - 2s 2s/step - loss: 0.7286 - accuracy: 0.7667 - val_loss: 1.8094 - val_accuracy: 0.4138\n",
            "Epoch 46/50\n",
            "2/2 [==============================] - 2s 1s/step - loss: 0.7108 - accuracy: 0.8333 - val_loss: 1.8225 - val_accuracy: 0.3448\n",
            "Epoch 47/50\n",
            "2/2 [==============================] - 2s 1s/step - loss: 0.6964 - accuracy: 0.7667 - val_loss: 1.6509 - val_accuracy: 0.4655\n",
            "Epoch 48/50\n",
            "2/2 [==============================] - 2s 1s/step - loss: 0.6658 - accuracy: 0.8500 - val_loss: 1.7292 - val_accuracy: 0.4310\n",
            "Epoch 49/50\n",
            "2/2 [==============================] - 2s 2s/step - loss: 0.7075 - accuracy: 0.8667 - val_loss: 1.8356 - val_accuracy: 0.3793\n",
            "Epoch 50/50\n",
            "2/2 [==============================] - 2s 2s/step - loss: 0.7070 - accuracy: 0.8000 - val_loss: 1.6393 - val_accuracy: 0.4483\n"
          ]
        }
      ],
      "source": [
        "# fit the model\n",
        "# Run the cell. It will take some time to execute\n",
        "r = model.fit_generator(\n",
        "  training_set,\n",
        "  validation_data=test_set,\n",
        "  epochs=50,\n",
        "  steps_per_epoch=len(training_set),\n",
        "  validation_steps=len(test_set)\n",
        ")"
      ]
    },
    {
      "cell_type": "code",
      "execution_count": 67,
      "metadata": {
        "colab": {
          "base_uri": "https://localhost:8080/",
          "height": 535
        },
        "id": "hsYPExXZ2_9t",
        "outputId": "75147a12-eaf5-41b5-b32e-cdf1960e28f8"
      },
      "outputs": [
        {
          "output_type": "display_data",
          "data": {
            "image/png": "[encoded data removed]",
            "text/plain": [
              "<Figure size 432x288 with 1 Axes>"
            ]
          },
          "metadata": {
            "needs_background": "light"
          }
        },
        {
          "output_type": "display_data",
          "data": {
            "image/png": "[encoded data removed]",
            "text/plain": [
              "<Figure size 432x288 with 1 Axes>"
            ]
          },
          "metadata": {
            "needs_background": "light"
          }
        },
        {
          "output_type": "display_data",
          "data": {
            "text/plain": [
              "<Figure size 432x288 with 0 Axes>"
            ]
          },
          "metadata": {}
        }
      ],
      "source": [
        "# plot the loss\n",
        "plt.plot(r.history['loss'], label='train loss')\n",
        "plt.plot(r.history['val_loss'], label='val loss')\n",
        "plt.legend()\n",
        "plt.show()\n",
        "plt.savefig('LossVal_loss2')\n",
        "\n",
        "# plot the accuracy\n",
        "plt.plot(r.history['accuracy'], label='train acc')\n",
        "plt.plot(r.history['val_accuracy'], label='val acc')\n",
        "plt.legend()\n",
        "plt.show()\n",
        "plt.savefig('AccVal_acc2')"
      ]
    },
    {
      "cell_type": "code",
      "execution_count": 70,
      "metadata": {
        "id": "3JiK5qIl2_9u"
      },
      "outputs": [],
      "source": [
        "# save it as a h5 file\n",
        "from tensorflow.keras.models import load_model\n",
        "model.save('/content/drive/MyDrive/model_seasponge_resnet50.h5')"
      ]
    },
    {
      "cell_type": "code",
      "execution_count": 71,
      "metadata": {
        "id": "NnqJgMqO2_9v"
      },
      "outputs": [],
      "source": [
        "y_pred = model.predict(test_set)"
      ]
    },
    {
      "cell_type": "code",
      "execution_count": 72,
      "metadata": {
        "colab": {
          "base_uri": "https://localhost:8080/"
        },
        "id": "lrmneF222_9v",
        "outputId": "95b4261c-eef1-44e0-a4fa-7db0f9fcb3a4"
      },
      "outputs": [
        {
          "output_type": "execute_result",
          "data": {
            "text/plain": [
              "array([[1.75920541e-05, 6.83421016e-01, 3.16158831e-01, 8.75027308e-06,\n",
              "        9.31253453e-05, 3.00737913e-04],\n",
              "       [2.84141698e-03, 3.67008932e-02, 5.22632943e-03, 3.95621359e-02,\n",
              "        8.83169115e-01, 3.25001590e-02],\n",
              "       [1.50462613e-04, 1.59029067e-02, 9.64215159e-01, 1.25265997e-02,\n",
              "        7.10310851e-05, 7.13382754e-03],\n",
              "       [4.32553497e-05, 5.16281843e-01, 4.82856780e-01, 1.88684644e-05,\n",
              "        1.16721865e-04, 6.82530343e-04],\n",
              "       [2.87365615e-02, 2.35841349e-01, 2.59528935e-01, 1.72187850e-01,\n",
              "        8.18107203e-02, 2.21894562e-01],\n",
              "       [1.48314402e-01, 3.64335328e-02, 3.95400785e-02, 3.96168903e-02,\n",
              "        3.13823551e-01, 4.22271580e-01],\n",
              "       [1.72421423e-05, 7.81750754e-02, 8.67362082e-01, 1.98482536e-03,\n",
              "        2.40471680e-03, 5.00560999e-02],\n",
              "       [2.90400926e-02, 3.89560387e-02, 1.18354760e-01, 2.11586624e-01,\n",
              "        4.94492710e-01, 1.07569799e-01],\n",
              "       [5.09119174e-03, 9.26697999e-03, 8.66143346e-01, 9.70650837e-03,\n",
              "        5.81436493e-02, 5.16482852e-02],\n",
              "       [4.28997986e-02, 9.28110033e-02, 1.43731341e-01, 1.40753344e-01,\n",
              "        4.34427410e-01, 1.45377085e-01],\n",
              "       [7.05083758e-02, 6.24474883e-02, 4.79175560e-02, 3.08735728e-01,\n",
              "        5.60795069e-02, 4.54311430e-01],\n",
              "       [1.38892245e-03, 3.87587160e-01, 2.95982063e-01, 5.76259010e-02,\n",
              "        2.18119055e-01, 3.92968506e-02],\n",
              "       [1.88486796e-04, 5.04397869e-01, 4.84245539e-01, 6.42992882e-03,\n",
              "        9.93316877e-04, 3.74485436e-03],\n",
              "       [3.18691023e-02, 7.83986151e-02, 2.98774868e-01, 4.20780713e-03,\n",
              "        5.49287975e-01, 3.74616310e-02],\n",
              "       [1.42163634e-01, 8.65541771e-02, 2.82193720e-02, 3.06069165e-01,\n",
              "        6.91665858e-02, 3.67826998e-01],\n",
              "       [1.73308551e-02, 7.36945346e-02, 2.49525666e-01, 3.30027118e-02,\n",
              "        5.78903317e-01, 4.75428998e-02],\n",
              "       [4.06593941e-02, 2.09804010e-02, 1.36034787e-01, 6.82325009e-03,\n",
              "        1.88501745e-01, 6.07000351e-01],\n",
              "       [6.31202653e-04, 6.57827314e-03, 9.24483780e-03, 6.48993254e-01,\n",
              "        3.08541924e-01, 2.60103829e-02],\n",
              "       [3.42184067e-01, 6.19248152e-02, 1.91781893e-01, 4.54812683e-02,\n",
              "        6.17145747e-02, 2.96913296e-01],\n",
              "       [1.40544415e-01, 2.35048205e-01, 8.95875841e-02, 2.15582967e-01,\n",
              "        1.86206043e-01, 1.33030772e-01],\n",
              "       [2.76503544e-02, 6.21962696e-02, 1.20079026e-01, 1.03336550e-01,\n",
              "        5.46805739e-01, 1.39932126e-01],\n",
              "       [2.47192662e-02, 5.72277308e-02, 1.39920175e-01, 1.48249552e-01,\n",
              "        4.83271092e-01, 1.46612138e-01],\n",
              "       [1.14772106e-02, 1.42046940e-02, 2.75270659e-02, 4.37116856e-03,\n",
              "        9.30148065e-01, 1.22717731e-02],\n",
              "       [6.85538398e-03, 1.28021762e-01, 2.76398063e-01, 4.65005860e-02,\n",
              "        4.57314223e-01, 8.49100128e-02],\n",
              "       [7.36860238e-05, 4.26759839e-01, 5.68520308e-01, 4.31671879e-06,\n",
              "        3.91001394e-03, 7.31858716e-04],\n",
              "       [3.59913558e-02, 3.55064236e-02, 1.25698149e-01, 2.05189258e-01,\n",
              "        4.65496540e-01, 1.32118285e-01],\n",
              "       [1.44701581e-02, 2.52077490e-01, 1.94751740e-01, 6.31766617e-02,\n",
              "        3.32338244e-01, 1.43185765e-01],\n",
              "       [4.22839681e-03, 3.63327086e-01, 4.88595180e-02, 3.22499603e-01,\n",
              "        2.13637874e-01, 4.74474952e-02],\n",
              "       [7.58473426e-02, 5.62761724e-02, 2.11457927e-02, 5.86076640e-02,\n",
              "        6.53829753e-01, 1.34293273e-01],\n",
              "       [1.35778930e-06, 9.65269864e-01, 3.39150466e-02, 4.88503370e-04,\n",
              "        2.39488028e-04, 8.57018604e-05],\n",
              "       [3.87073873e-04, 8.53487015e-01, 1.42451465e-01, 3.20754880e-05,\n",
              "        3.08763050e-03, 5.54836937e-04],\n",
              "       [6.89840391e-02, 1.73893064e-01, 1.74535625e-02, 4.49507385e-01,\n",
              "        1.07751288e-01, 1.82410687e-01],\n",
              "       [1.72326773e-01, 9.11071002e-02, 3.16934623e-02, 2.85998970e-01,\n",
              "        5.60529642e-02, 3.62820745e-01],\n",
              "       [1.41213402e-01, 3.49337384e-02, 6.04211092e-01, 1.15633467e-02,\n",
              "        4.89587188e-02, 1.59119725e-01],\n",
              "       [6.92159757e-02, 2.07343772e-02, 3.52552347e-02, 3.61147523e-01,\n",
              "        3.93046141e-01, 1.20600782e-01],\n",
              "       [2.05317304e-01, 5.65426536e-02, 1.33321034e-02, 2.08537444e-01,\n",
              "        6.11613914e-02, 4.55109030e-01],\n",
              "       [7.98382796e-03, 4.24328208e-01, 2.42781863e-01, 1.34384939e-02,\n",
              "        2.70464867e-01, 4.10027802e-02],\n",
              "       [5.48324082e-03, 5.61187044e-03, 8.52754060e-03, 6.90084279e-01,\n",
              "        2.88482998e-02, 2.61444807e-01],\n",
              "       [7.78892124e-03, 6.97295666e-02, 4.87848848e-01, 8.99844617e-02,\n",
              "        4.65840176e-02, 2.98064202e-01],\n",
              "       [2.35461332e-02, 6.71323091e-02, 5.20802028e-02, 5.73789120e-01,\n",
              "        1.06097601e-01, 1.77354679e-01],\n",
              "       [3.66741896e-01, 1.61733888e-02, 2.28462622e-01, 6.16288697e-03,\n",
              "        6.05437309e-02, 3.21915507e-01],\n",
              "       [2.49760702e-01, 9.54671204e-02, 1.57504752e-02, 1.57296166e-01,\n",
              "        6.33417442e-02, 4.18383777e-01],\n",
              "       [2.30820198e-02, 1.42456526e-02, 1.55946705e-03, 4.11736071e-01,\n",
              "        4.94755656e-01, 5.46210967e-02],\n",
              "       [2.12937638e-01, 1.12586923e-01, 2.27427721e-01, 2.52607334e-02,\n",
              "        1.74648479e-01, 2.47138515e-01],\n",
              "       [1.32147344e-02, 4.49870294e-03, 1.84890511e-03, 5.89116573e-01,\n",
              "        3.78490806e-01, 1.28303105e-02],\n",
              "       [5.04155010e-02, 9.29654241e-02, 1.08102702e-01, 8.97613391e-02,\n",
              "        5.32999098e-01, 1.25755936e-01],\n",
              "       [8.10879748e-03, 3.85822691e-02, 1.76822737e-01, 1.50803789e-01,\n",
              "        5.90252340e-01, 3.54300365e-02],\n",
              "       [2.84856074e-02, 6.26030505e-01, 2.62941774e-02, 2.55076103e-02,\n",
              "        2.08393931e-01, 8.52881745e-02],\n",
              "       [1.74176705e-04, 4.44037504e-02, 9.49897647e-01, 1.06507679e-03,\n",
              "        1.47440238e-03, 2.98480107e-03],\n",
              "       [9.70313023e-13, 1.00000000e+00, 4.30443930e-10, 6.72504451e-14,\n",
              "        1.15811816e-09, 4.68249896e-13],\n",
              "       [2.24802885e-02, 1.05986008e-02, 7.83292294e-01, 1.86841248e-03,\n",
              "        1.39097258e-01, 4.26630229e-02],\n",
              "       [2.06175566e-01, 4.20233048e-02, 4.61306460e-02, 8.30550417e-02,\n",
              "        9.49147344e-02, 5.27700722e-01],\n",
              "       [2.37983555e-01, 7.25089386e-02, 1.52149498e-01, 7.60788471e-02,\n",
              "        1.45060256e-01, 3.16218883e-01],\n",
              "       [7.09127751e-04, 8.12476814e-01, 1.08870775e-01, 1.29943725e-03,\n",
              "        7.17572942e-02, 4.88650892e-03],\n",
              "       [7.93892145e-03, 1.93158835e-01, 3.22904214e-02, 6.77989483e-01,\n",
              "        4.57199067e-02, 4.29024696e-02],\n",
              "       [1.11939348e-02, 2.43579790e-01, 4.38832223e-01, 1.33465286e-02,\n",
              "        2.45842561e-01, 4.72049676e-02],\n",
              "       [7.10863515e-06, 7.22495079e-01, 1.81540608e-01, 1.41168032e-02,\n",
              "        7.95928985e-02, 2.24738871e-03],\n",
              "       [2.17465986e-03, 5.61171100e-02, 9.10259664e-01, 1.07023567e-02,\n",
              "        5.39470639e-04, 2.02067252e-02]], dtype=float32)"
            ]
          },
          "metadata": {},
          "execution_count": 72
        }
      ],
      "source": [
        "y_pred"
      ]
    },
    {
      "cell_type": "code",
      "execution_count": 73,
      "metadata": {
        "id": "P4WujPKS2_9w"
      },
      "outputs": [],
      "source": [
        "import numpy as np\n",
        "y_pred = np.argmax(y_pred, axis=1)"
      ]
    },
    {
      "cell_type": "code",
      "execution_count": 74,
      "metadata": {
        "colab": {
          "base_uri": "https://localhost:8080/"
        },
        "id": "Kw_64IZH2_9z",
        "outputId": "a4da38c3-6b84-40ce-c058-fb1208635cff"
      },
      "outputs": [
        {
          "output_type": "execute_result",
          "data": {
            "text/plain": [
              "array([1, 4, 2, 1, 2, 5, 2, 4, 2, 4, 5, 1, 1, 4, 5, 4, 5, 3, 0, 1, 4, 4,\n",
              "       4, 4, 2, 4, 4, 1, 4, 1, 1, 3, 5, 2, 4, 5, 1, 3, 2, 3, 0, 5, 4, 5,\n",
              "       3, 4, 4, 1, 2, 1, 2, 5, 5, 1, 3, 2, 1, 2])"
            ]
          },
          "metadata": {},
          "execution_count": 74
        }
      ],
      "source": [
        "y_pred"
      ]
    },
    {
      "cell_type": "code",
      "execution_count": 75,
      "metadata": {
        "id": "FOp-bzfj2_-A"
      },
      "outputs": [],
      "source": [
        "from tensorflow.keras.models import load_model\n",
        "from tensorflow.keras.preprocessing import image"
      ]
    },
    {
      "cell_type": "code",
      "execution_count": 76,
      "metadata": {
        "id": "XMNGFsqH2_-B"
      },
      "outputs": [],
      "source": [
        "model=load_model('/content/drive/MyDrive/model_seasponge_resnet50.h5')"
      ]
    },
    {
      "cell_type": "code",
      "execution_count": 77,
      "metadata": {
        "id": "JNMI8xTp2_-E"
      },
      "outputs": [],
      "source": [
        "img=image.load_img('/content/drive/MyDrive/Dataset Sea Sponge/Test/sea_squirt_sponge/jpg_11.jpg',target_size=(224,224))"
      ]
    },
    {
      "cell_type": "code",
      "execution_count": 78,
      "metadata": {
        "colab": {
          "base_uri": "https://localhost:8080/"
        },
        "id": "QM-eHPrf2_-F",
        "outputId": "294fa478-20ec-4c37-a2d9-b465627f0a6e"
      },
      "outputs": [
        {
          "output_type": "execute_result",
          "data": {
            "text/plain": [
              "array([[[67., 33., 23.],\n",
              "        [68., 31., 22.],\n",
              "        [67., 31., 19.],\n",
              "        ...,\n",
              "        [45., 32., 15.],\n",
              "        [45., 32., 15.],\n",
              "        [46., 33., 16.]],\n",
              "\n",
              "       [[62., 28., 18.],\n",
              "        [64., 27., 18.],\n",
              "        [64., 28., 16.],\n",
              "        ...,\n",
              "        [45., 32., 15.],\n",
              "        [45., 32., 15.],\n",
              "        [46., 33., 16.]],\n",
              "\n",
              "       [[58., 21., 12.],\n",
              "        [58., 21., 12.],\n",
              "        [59., 22., 13.],\n",
              "        ...,\n",
              "        [45., 32., 15.],\n",
              "        [45., 32., 15.],\n",
              "        [45., 32., 15.]],\n",
              "\n",
              "       ...,\n",
              "\n",
              "       [[61., 40., 19.],\n",
              "        [59., 38., 17.],\n",
              "        [57., 36., 15.],\n",
              "        ...,\n",
              "        [11.,  0.,  0.],\n",
              "        [17.,  2.,  0.],\n",
              "        [31., 16., 13.]],\n",
              "\n",
              "       [[70., 55., 16.],\n",
              "        [67., 47., 20.],\n",
              "        [57., 35., 21.],\n",
              "        ...,\n",
              "        [27.,  8.,  0.],\n",
              "        [29., 10.,  0.],\n",
              "        [32., 13.,  0.]],\n",
              "\n",
              "       [[70., 55., 16.],\n",
              "        [67., 47., 20.],\n",
              "        [58., 36., 22.],\n",
              "        ...,\n",
              "        [45., 26., 12.],\n",
              "        [47., 28., 14.],\n",
              "        [50., 31., 17.]]], dtype=float32)"
            ]
          },
          "metadata": {},
          "execution_count": 78
        }
      ],
      "source": [
        "x=image.img_to_array(img)\n",
        "x"
      ]
    },
    {
      "cell_type": "code",
      "execution_count": 79,
      "metadata": {
        "colab": {
          "base_uri": "https://localhost:8080/"
        },
        "id": "daGA9V5u2_-F",
        "outputId": "3b5369ab-91b9-48bd-e9b7-aa23a44e3003"
      },
      "outputs": [
        {
          "output_type": "execute_result",
          "data": {
            "text/plain": [
              "(224, 224, 3)"
            ]
          },
          "metadata": {},
          "execution_count": 79
        }
      ],
      "source": [
        "x.shape"
      ]
    },
    {
      "cell_type": "code",
      "execution_count": 80,
      "metadata": {
        "id": "uSUVxawx2_-G"
      },
      "outputs": [],
      "source": [
        "x=x/255"
      ]
    },
    {
      "cell_type": "code",
      "execution_count": 81,
      "metadata": {
        "colab": {
          "base_uri": "https://localhost:8080/"
        },
        "id": "AiHyBlCq2_-G",
        "outputId": "b199f041-7842-4bc5-c19f-8ec2b87ea6ca"
      },
      "outputs": [
        {
          "output_type": "execute_result",
          "data": {
            "text/plain": [
              "(1, 224, 224, 3)"
            ]
          },
          "metadata": {},
          "execution_count": 81
        }
      ],
      "source": [
        "x=np.expand_dims(x,axis=0)\n",
        "img_data=preprocess_input(x)\n",
        "img_data.shape"
      ]
    },
    {
      "cell_type": "code",
      "execution_count": 82,
      "metadata": {
        "colab": {
          "base_uri": "https://localhost:8080/"
        },
        "id": "6QQkH2yH2_-H",
        "outputId": "40e412d5-e72d-4e0e-e14c-3e7e4b321cc0"
      },
      "outputs": [
        {
          "output_type": "execute_result",
          "data": {
            "text/plain": [
              "array([[9.0224687e-03, 2.6554060e-01, 5.4371906e-03, 8.6107122e-04,\n",
              "        7.1900952e-01, 1.2909541e-04]], dtype=float32)"
            ]
          },
          "metadata": {},
          "execution_count": 82
        }
      ],
      "source": [
        "model.predict(img_data)"
      ]
    },
    {
      "cell_type": "code",
      "execution_count": 83,
      "metadata": {
        "id": "SpGLB5lm2_-H"
      },
      "outputs": [],
      "source": [
        "a=np.argmax(model.predict(img_data), axis=1)"
      ]
    },
    {
      "cell_type": "code",
      "execution_count": 84,
      "metadata": {
        "colab": {
          "base_uri": "https://localhost:8080/"
        },
        "id": "qO03OwrT2_-H",
        "outputId": "ce43c209-a162-4e8a-f02d-67a32596e8bf"
      },
      "outputs": [
        {
          "output_type": "execute_result",
          "data": {
            "text/plain": [
              "array([4])"
            ]
          },
          "metadata": {},
          "execution_count": 84
        }
      ],
      "source": [
        "a"
      ]
    }
  ],
  "metadata": {
    "accelerator": "GPU",
    "colab": {
      "name": "Sea SpongeTransfer learning Resnet50.ipynb",
      "provenance": []
    },
    "kernelspec": {
      "display_name": "Python 3",
      "language": "python",
      "name": "python3"
    },
    "language_info": {
      "codemirror_mode": {
        "name": "ipython",
        "version": 3
      },
      "file_extension": ".py",
      "mimetype": "text/x-python",
      "name": "python",
      "nbconvert_exporter": "python",
      "pygments_lexer": "ipython3",
      "version": "3.7.7"
    }
  },
  "nbformat": 4,
  "nbformat_minor": 0
}